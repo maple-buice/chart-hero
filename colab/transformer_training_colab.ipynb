{
 "cells": [
  {
   "cell_type": "markdown",
   "metadata": {
    "id": "view-in-github"
   },
   "source": [
    "# Chart-Hero Transformer Training - Google Colab\n",
    "\n",
    "This notebook provides a complete setup for training the Chart-Hero transformer model on Google Colab with GPU acceleration."
   ]
  },
  {
   "cell_type": "markdown",
   "metadata": {},
   "source": [
    "## 1. Environment Setup"
   ]
  },
  {
   "cell_type": "code",
   "execution_count": null,
   "metadata": {},
   "outputs": [],
   "source": [
    "# Check GPU availability\n",
    "!nvidia-smi\n",
    "\n",
    "import torch\n",
    "print(f\"CUDA available: {torch.cuda.is_available()}\")\n",
    "if torch.cuda.is_available():\n",
    "    print(f\"GPU: {torch.cuda.get_device_name(0)}\")\n",
    "    print(f\"Memory: {torch.cuda.get_device_properties(0).total_memory / 1e9:.1f} GB\")"
   ]
  },
  {
   "cell_type": "code",
   "execution_count": null,
   "metadata": {},
   "outputs": [],
   "source": [
    "# Mount Google Drive\n",
    "from google.colab import drive\n",
    "drive.mount('/content/drive')\n",
    "\n",
    "# Set up project directory\n",
    "PROJECT_DIR = '/content/drive/MyDrive/chart-hero'\n",
    "!mkdir -p {PROJECT_DIR}\n",
    "%cd {PROJECT_DIR}"
   ]
  },
  {
   "cell_type": "code",
   "execution_count": null,
   "metadata": {},
   "outputs": [],
   "source": [
    "# Clone or update repository\n",
    "import os\n",
    "if not os.path.exists('chart-hero'):\n",
    "    !git clone https://github.com/your-username/chart-hero.git\n",
    "else:\n",
    "    %cd chart-hero\n",
    "    !git pull\n",
    "    %cd ..\n",
    "\n",
    "%cd chart-hero"
   ]
  },
  {
   "cell_type": "code",
   "execution_count": null,
   "metadata": {},
   "outputs": [],
   "source": [
    "# Install dependencies\n",
    "!pip install -q torch torchvision torchaudio --index-url https://download.pytorch.org/whl/cu118\n",
    "!pip install -q pytorch-lightning transformers timm wandb\n",
    "!pip install -q librosa soundfile scikit-learn pandas numpy matplotlib seaborn tqdm\n",
    "!pip install -q ipywidgets"
   ]
  },
  {
   "cell_type": "markdown",
   "metadata": {},
   "source": [
    "## 2. Data Setup"
   ]
  },
  {
   "cell_type": "code",
   "execution_count": null,
   "metadata": {},
   "outputs": [],
   "source": [
    "# Download and extract Expanded Groove MIDI Dataset\n",
    "# Note: Replace with actual download commands for your dataset\n",
    "\n",
    "DATASET_URL = \"https://your-dataset-url.com/expanded-groove-midi.zip\"\n",
    "DATASET_DIR = \"/content/drive/MyDrive/chart-hero/datasets\"\n",
    "\n",
    "!mkdir -p {DATASET_DIR}\n",
    "\n",
    "# Download dataset (uncomment and modify as needed)\n",
    "# !wget -O {DATASET_DIR}/dataset.zip {DATASET_URL}\n",
    "# !unzip -q {DATASET_DIR}/dataset.zip -d {DATASET_DIR}\n",
    "\n",
    "print(f\"Dataset directory: {DATASET_DIR}\")\n",
    "!ls -la {DATASET_DIR}"
   ]
  },
  {
   "cell_type": "code",
   "execution_count": null,
   "metadata": {},
   "outputs": [],
   "source": [
    "# Prepare training data (if not already processed)\n",
    "# This cell converts the raw EGMD data to transformer-compatible format\n",
    "\n",
    "import sys\n",
    "sys.path.append('/content/chart-hero')\n",
    "\n",
    "from model_training.data_preparation import data_preparation\n",
    "from model_training.transformer_data import convert_legacy_data\n",
    "\n",
    "# Process raw EGMD data\n",
    "egmd_dir = \"/content/drive/MyDrive/chart-hero/datasets/expanded-groove-midi\"\n",
    "processed_dir = \"/content/drive/MyDrive/chart-hero/datasets/processed\"\n",
    "\n",
    "if not os.path.exists(processed_dir):\n",
    "    print(\"Processing raw EGMD data...\")\n",
    "    \n",
    "    # Create data preparation instance\n",
    "    data_prep = data_preparation(\n",
    "        directory_path=egmd_dir,\n",
    "        dataset='egmd',\n",
    "        sample_ratio=1.0,\n",
    "        diff_threshold=1.0\n",
    "    )\n",
    "    \n",
    "    # Create audio set with batching\n",
    "    data_prep.create_audio_set(\n",
    "        pad_before=0.1,\n",
    "        pad_after=0.1,\n",
    "        fix_length=10.0,  # 10 second segments\n",
    "        batching=True,\n",
    "        dir_path=processed_dir,\n",
    "        num_batches=20\n",
    "    )\n",
    "    \n",
    "    print(\"Data processing completed!\")\nelse:\n",
    "    print(\"Processed data already exists.\")\n",
    "\n",
    "!ls -la {processed_dir}"
   ]
  },
  {
   "cell_type": "markdown",
   "metadata": {},
   "source": [
    "## 3. Model Training"
   ]
  },
  {
   "cell_type": "code",
   "execution_count": null,
   "metadata": {},
   "outputs": [],
   "source": [
    "# Set up W&B logging\n",
    "import wandb\n",
    "\n",
    "# Login to W&B (you'll need to provide your API key)\n",
    "wandb.login()\n",
    "\n",
    "# Or set the API key directly\n",
    "# wandb.login(key=\"your-wandb-api-key\")"
   ]
  },
  {
   "cell_type": "code",
   "execution_count": null,
   "metadata": {},
   "outputs": [],
   "source": [
    "# Test transformer setup\n",
    "!python model_training/test_transformer_setup.py"
   ]
  },
  {
   "cell_type": "code",
   "execution_count": null,
   "metadata": {},
   "outputs": [],
   "source": [
    "# Start training with cloud configuration\n",
    "DATA_DIR = \"/content/drive/MyDrive/chart-hero/datasets/processed\"\n",
    "AUDIO_DIR = \"/content/drive/MyDrive/chart-hero/datasets/expanded-groove-midi\"\n",
    "\n",
    "!python model_training/train_transformer.py \\\n",
    "    --config cloud \\\n",
    "    --data-dir {DATA_DIR} \\\n",
    "    --audio-dir {AUDIO_DIR} \\\n",
    "    --project-name chart-hero-transformer-colab"
   ]
  },
  {
   "cell_type": "markdown",
   "metadata": {},
   "source": [
    "## 4. Resume Training (if needed)"
   ]
  },
  {
   "cell_type": "code",
   "execution_count": null,
   "metadata": {},
   "outputs": [],
   "source": [
    "# Resume from checkpoint\n",
    "CHECKPOINT_PATH = \"/content/drive/MyDrive/chart-hero/models/last.ckpt\"\n",
    "\n",
    "if os.path.exists(CHECKPOINT_PATH):\n",
    "    !python model_training/train_transformer.py \\\n",
    "        --config cloud \\\n",
    "        --data-dir {DATA_DIR} \\\n",
    "        --audio-dir {AUDIO_DIR} \\\n",
    "        --resume {CHECKPOINT_PATH} \\\n",
    "        --project-name chart-hero-transformer-colab\nelse:\n",
    "    print(f\"Checkpoint not found: {CHECKPOINT_PATH}\")"
   ]
  },
  {
   "cell_type": "markdown",
   "metadata": {},
   "source": [
    "## 5. Model Evaluation and Export"
   ]
  },
  {
   "cell_type": "code",
   "execution_count": null,
   "metadata": {},
   "outputs": [],
   "source": [
    "# Load and evaluate best model\n",
    "import torch\n",
    "from model_training.train_transformer import DrumTranscriptionModule\n",
    "from model_training.transformer_config import get_config\n",
    "\n",
    "config = get_config(\"cloud\")\n",
    "best_model_path = \"/content/drive/MyDrive/chart-hero/models/best_model.ckpt\"\n",
    "\n",
    "if os.path.exists(best_model_path):\n",
    "    model = DrumTranscriptionModule.load_from_checkpoint(best_model_path)\n",
    "    model.eval()\n",
    "    print(\"Model loaded successfully!\")\n",
    "    \n",
    "    # Export to ONNX for deployment\n",
    "    dummy_input = torch.randn(1, 1, 256, 128)\n",
    "    onnx_path = \"/content/drive/MyDrive/chart-hero/models/drum_transformer.onnx\"\n",
    "    \n",
    "    torch.onnx.export(\n",
    "        model.model,\n",
    "        dummy_input,\n",
    "        onnx_path,\n",
    "        export_params=True,\n",
    "        opset_version=11,\n",
    "        do_constant_folding=True,\n",
    "        input_names=['spectrogram'],\n",
    "        output_names=['logits'],\n",
    "        dynamic_axes={\n",
    "            'spectrogram': {0: 'batch_size', 2: 'time'},\n",
    "            'logits': {0: 'batch_size'}\n",
    "        }\n",
    "    )\n",
    "    \n",
    "    print(f\"Model exported to ONNX: {onnx_path}\")\nelse:\n",
    "    print(f\"Best model not found: {best_model_path}\")"
   ]
  },
  {
   "cell_type": "markdown",
   "metadata": {},
   "source": [
    "## 6. Cleanup"
   ]
  },
  {
   "cell_type": "code",
   "execution_count": null,
   "metadata": {},
   "outputs": [],
   "source": [
    "# Clean up temporary files and finish W&B run\n",
    "wandb.finish()\n",
    "\n",
    "# Show final model and log locations\n",
    "print(\"Training completed!\")\n",
    "print(f\"Models saved to: /content/drive/MyDrive/chart-hero/models/\")\n",
    "print(f\"Logs saved to: /content/drive/MyDrive/chart-hero/logs/\")\n",
    "print(f\"Datasets saved to: /content/drive/MyDrive/chart-hero/datasets/\")"
   ]
  }
 ],
 "metadata": {
  "accelerator": "GPU",
  "colab": {
   "gpuType": "T4",
   "machine_shape": "hm",
   "provenance": []
  },
  "kernelspec": {
   "display_name": "Python 3",
   "name": "python3"
  },
  "language_info": {
   "name": "python"
  }
 },
 "nbformat": 4,
 "nbformat_minor": 0
}